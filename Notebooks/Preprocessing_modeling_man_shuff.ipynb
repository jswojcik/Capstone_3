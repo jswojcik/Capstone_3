{
 "cells": [
  {
   "cell_type": "markdown",
   "metadata": {},
   "source": [
    "# Preprocessing & Modeling"
   ]
  },
  {
   "cell_type": "code",
   "execution_count": 1,
   "metadata": {},
   "outputs": [],
   "source": [
    "# Load appropriate modules\n",
    "from os import listdir\n",
    "import os\n",
    "import matplotlib.pyplot as plt\n",
    "import pandas as pd\n",
    "import numpy as np\n",
    "import glob\n",
    "from pathlib import Path\n",
    "from keras.models import Sequential\n",
    "#Import from keras_preprocessing not from keras.preprocessing\n",
    "from keras_preprocessing.image import ImageDataGenerator\n",
    "from keras.layers import Dense, Activation, Flatten, Dropout, BatchNormalization\n",
    "from keras.layers import Conv2D, MaxPooling2D\n",
    "from keras import regularizers, optimizers\n",
    "from keras import metrics\n",
    "plt.style.use('seaborn')\n",
    "plt.rcParams[\"figure.figsize\"] = (8, 8)\n",
    "%matplotlib inline"
   ]
  },
  {
   "cell_type": "markdown",
   "metadata": {},
   "source": [
    "#### Load in Dataframe\n"
   ]
  },
  {
   "cell_type": "code",
   "execution_count": 2,
   "metadata": {},
   "outputs": [],
   "source": [
    "train_df = pd.read_csv(r\"C:/Users/Jake Wojcik/Documents/Springboard/DS Career Track Course/Capstone_3/Data/train_data.csv\",index_col=0)\n",
    "test_df = pd.read_csv(r\"C:/Users/Jake Wojcik/Documents/Springboard/DS Career Track Course/Capstone_3/Data/test_data.csv\",index_col=0)"
   ]
  },
  {
   "cell_type": "code",
   "execution_count": 3,
   "metadata": {},
   "outputs": [
    {
     "data": {
      "text/html": [
       "<div>\n",
       "<style scoped>\n",
       "    .dataframe tbody tr th:only-of-type {\n",
       "        vertical-align: middle;\n",
       "    }\n",
       "\n",
       "    .dataframe tbody tr th {\n",
       "        vertical-align: top;\n",
       "    }\n",
       "\n",
       "    .dataframe thead th {\n",
       "        text-align: right;\n",
       "    }\n",
       "</style>\n",
       "<table border=\"1\" class=\"dataframe\">\n",
       "  <thead>\n",
       "    <tr style=\"text-align: right;\">\n",
       "      <th></th>\n",
       "      <th>path</th>\n",
       "      <th>damage</th>\n",
       "      <th>data_split</th>\n",
       "      <th>location</th>\n",
       "      <th>lon</th>\n",
       "      <th>lat</th>\n",
       "      <th>image</th>\n",
       "    </tr>\n",
       "  </thead>\n",
       "  <tbody>\n",
       "    <tr>\n",
       "      <th>0</th>\n",
       "      <td>C:\\Users\\Jake Wojcik\\Documents\\Springboard\\DS ...</td>\n",
       "      <td>damage</td>\n",
       "      <td>train_another</td>\n",
       "      <td>-93.55964_30.895018</td>\n",
       "      <td>-93.559640</td>\n",
       "      <td>30.895018</td>\n",
       "      <td>[[[106 118  80]\\n  [ 90 102  64]\\n  [ 80  92  ...</td>\n",
       "    </tr>\n",
       "    <tr>\n",
       "      <th>1</th>\n",
       "      <td>C:\\Users\\Jake Wojcik\\Documents\\Springboard\\DS ...</td>\n",
       "      <td>damage</td>\n",
       "      <td>train_another</td>\n",
       "      <td>-93.573763_30.693981</td>\n",
       "      <td>-93.573763</td>\n",
       "      <td>30.693981</td>\n",
       "      <td>[[[ 57 106  51]\\n  [ 57 106  51]\\n  [ 57 106  ...</td>\n",
       "    </tr>\n",
       "    <tr>\n",
       "      <th>2</th>\n",
       "      <td>C:\\Users\\Jake Wojcik\\Documents\\Springboard\\DS ...</td>\n",
       "      <td>damage</td>\n",
       "      <td>train_another</td>\n",
       "      <td>-93.578271_30.779923999999998</td>\n",
       "      <td>-93.578271</td>\n",
       "      <td>30.779924</td>\n",
       "      <td>[[[102 105  74]\\n  [102 105  74]\\n  [100 103  ...</td>\n",
       "    </tr>\n",
       "    <tr>\n",
       "      <th>3</th>\n",
       "      <td>C:\\Users\\Jake Wojcik\\Documents\\Springboard\\DS ...</td>\n",
       "      <td>damage</td>\n",
       "      <td>train_another</td>\n",
       "      <td>-93.59011_30.695412</td>\n",
       "      <td>-93.590110</td>\n",
       "      <td>30.695412</td>\n",
       "      <td>[[[36 66 40]\\n  [37 67 41]\\n  [39 69 43]\\n  .....</td>\n",
       "    </tr>\n",
       "    <tr>\n",
       "      <th>4</th>\n",
       "      <td>C:\\Users\\Jake Wojcik\\Documents\\Springboard\\DS ...</td>\n",
       "      <td>damage</td>\n",
       "      <td>train_another</td>\n",
       "      <td>-93.59030899999999_30.694764000000003</td>\n",
       "      <td>-93.590309</td>\n",
       "      <td>30.694764</td>\n",
       "      <td>[[[43 47 33]\\n  [55 59 45]\\n  [63 67 53]\\n  .....</td>\n",
       "    </tr>\n",
       "    <tr>\n",
       "      <th>...</th>\n",
       "      <td>...</td>\n",
       "      <td>...</td>\n",
       "      <td>...</td>\n",
       "      <td>...</td>\n",
       "      <td>...</td>\n",
       "      <td>...</td>\n",
       "      <td>...</td>\n",
       "    </tr>\n",
       "    <tr>\n",
       "      <th>11995</th>\n",
       "      <td>C:\\Users\\Jake Wojcik\\Documents\\Springboard\\DS ...</td>\n",
       "      <td>no_damage</td>\n",
       "      <td>validation_another</td>\n",
       "      <td>-97.000188_28.879426000000002</td>\n",
       "      <td>-97.000188</td>\n",
       "      <td>28.879426</td>\n",
       "      <td>[[[ 80 101  70]\\n  [ 75  96  65]\\n  [ 68  89  ...</td>\n",
       "    </tr>\n",
       "    <tr>\n",
       "      <th>11996</th>\n",
       "      <td>C:\\Users\\Jake Wojcik\\Documents\\Springboard\\DS ...</td>\n",
       "      <td>no_damage</td>\n",
       "      <td>validation_another</td>\n",
       "      <td>-97.000443_28.859588000000002</td>\n",
       "      <td>-97.000443</td>\n",
       "      <td>28.859588</td>\n",
       "      <td>[[[ 95  98  87]\\n  [ 93  96  85]\\n  [ 91  94  ...</td>\n",
       "    </tr>\n",
       "    <tr>\n",
       "      <th>11997</th>\n",
       "      <td>C:\\Users\\Jake Wojcik\\Documents\\Springboard\\DS ...</td>\n",
       "      <td>no_damage</td>\n",
       "      <td>validation_another</td>\n",
       "      <td>-97.000872_28.789737</td>\n",
       "      <td>-97.000872</td>\n",
       "      <td>28.789737</td>\n",
       "      <td>[[[102 108  82]\\n  [128 134 108]\\n  [135 139 1...</td>\n",
       "    </tr>\n",
       "    <tr>\n",
       "      <th>11998</th>\n",
       "      <td>C:\\Users\\Jake Wojcik\\Documents\\Springboard\\DS ...</td>\n",
       "      <td>no_damage</td>\n",
       "      <td>validation_another</td>\n",
       "      <td>-97.000945_28.846922999999997</td>\n",
       "      <td>-97.000945</td>\n",
       "      <td>28.846923</td>\n",
       "      <td>[[[ 74 100  65]\\n  [ 65  91  56]\\n  [ 62  86  ...</td>\n",
       "    </tr>\n",
       "    <tr>\n",
       "      <th>11999</th>\n",
       "      <td>C:\\Users\\Jake Wojcik\\Documents\\Springboard\\DS ...</td>\n",
       "      <td>no_damage</td>\n",
       "      <td>validation_another</td>\n",
       "      <td>-97.001414_28.622662</td>\n",
       "      <td>-97.001414</td>\n",
       "      <td>28.622662</td>\n",
       "      <td>[[[103 119  90]\\n  [126 142 113]\\n  [119 134 1...</td>\n",
       "    </tr>\n",
       "  </tbody>\n",
       "</table>\n",
       "<p>12000 rows × 7 columns</p>\n",
       "</div>"
      ],
      "text/plain": [
       "                                                    path     damage  \\\n",
       "0      C:\\Users\\Jake Wojcik\\Documents\\Springboard\\DS ...     damage   \n",
       "1      C:\\Users\\Jake Wojcik\\Documents\\Springboard\\DS ...     damage   \n",
       "2      C:\\Users\\Jake Wojcik\\Documents\\Springboard\\DS ...     damage   \n",
       "3      C:\\Users\\Jake Wojcik\\Documents\\Springboard\\DS ...     damage   \n",
       "4      C:\\Users\\Jake Wojcik\\Documents\\Springboard\\DS ...     damage   \n",
       "...                                                  ...        ...   \n",
       "11995  C:\\Users\\Jake Wojcik\\Documents\\Springboard\\DS ...  no_damage   \n",
       "11996  C:\\Users\\Jake Wojcik\\Documents\\Springboard\\DS ...  no_damage   \n",
       "11997  C:\\Users\\Jake Wojcik\\Documents\\Springboard\\DS ...  no_damage   \n",
       "11998  C:\\Users\\Jake Wojcik\\Documents\\Springboard\\DS ...  no_damage   \n",
       "11999  C:\\Users\\Jake Wojcik\\Documents\\Springboard\\DS ...  no_damage   \n",
       "\n",
       "               data_split                               location        lon  \\\n",
       "0           train_another                    -93.55964_30.895018 -93.559640   \n",
       "1           train_another                   -93.573763_30.693981 -93.573763   \n",
       "2           train_another          -93.578271_30.779923999999998 -93.578271   \n",
       "3           train_another                    -93.59011_30.695412 -93.590110   \n",
       "4           train_another  -93.59030899999999_30.694764000000003 -93.590309   \n",
       "...                   ...                                    ...        ...   \n",
       "11995  validation_another          -97.000188_28.879426000000002 -97.000188   \n",
       "11996  validation_another          -97.000443_28.859588000000002 -97.000443   \n",
       "11997  validation_another                   -97.000872_28.789737 -97.000872   \n",
       "11998  validation_another          -97.000945_28.846922999999997 -97.000945   \n",
       "11999  validation_another                   -97.001414_28.622662 -97.001414   \n",
       "\n",
       "             lat                                              image  \n",
       "0      30.895018  [[[106 118  80]\\n  [ 90 102  64]\\n  [ 80  92  ...  \n",
       "1      30.693981  [[[ 57 106  51]\\n  [ 57 106  51]\\n  [ 57 106  ...  \n",
       "2      30.779924  [[[102 105  74]\\n  [102 105  74]\\n  [100 103  ...  \n",
       "3      30.695412  [[[36 66 40]\\n  [37 67 41]\\n  [39 69 43]\\n  .....  \n",
       "4      30.694764  [[[43 47 33]\\n  [55 59 45]\\n  [63 67 53]\\n  .....  \n",
       "...          ...                                                ...  \n",
       "11995  28.879426  [[[ 80 101  70]\\n  [ 75  96  65]\\n  [ 68  89  ...  \n",
       "11996  28.859588  [[[ 95  98  87]\\n  [ 93  96  85]\\n  [ 91  94  ...  \n",
       "11997  28.789737  [[[102 108  82]\\n  [128 134 108]\\n  [135 139 1...  \n",
       "11998  28.846923  [[[ 74 100  65]\\n  [ 65  91  56]\\n  [ 62  86  ...  \n",
       "11999  28.622662  [[[103 119  90]\\n  [126 142 113]\\n  [119 134 1...  \n",
       "\n",
       "[12000 rows x 7 columns]"
      ]
     },
     "execution_count": 3,
     "metadata": {},
     "output_type": "execute_result"
    }
   ],
   "source": [
    "train_df"
   ]
  },
  {
   "cell_type": "code",
   "execution_count": 4,
   "metadata": {},
   "outputs": [
    {
     "data": {
      "text/html": [
       "<div>\n",
       "<style scoped>\n",
       "    .dataframe tbody tr th:only-of-type {\n",
       "        vertical-align: middle;\n",
       "    }\n",
       "\n",
       "    .dataframe tbody tr th {\n",
       "        vertical-align: top;\n",
       "    }\n",
       "\n",
       "    .dataframe thead th {\n",
       "        text-align: right;\n",
       "    }\n",
       "</style>\n",
       "<table border=\"1\" class=\"dataframe\">\n",
       "  <thead>\n",
       "    <tr style=\"text-align: right;\">\n",
       "      <th></th>\n",
       "      <th>path</th>\n",
       "      <th>damage</th>\n",
       "      <th>data_split</th>\n",
       "      <th>location</th>\n",
       "      <th>lon</th>\n",
       "      <th>lat</th>\n",
       "      <th>image</th>\n",
       "    </tr>\n",
       "  </thead>\n",
       "  <tbody>\n",
       "    <tr>\n",
       "      <th>0</th>\n",
       "      <td>C:\\Users\\Jake Wojcik\\Documents\\Springboard\\DS ...</td>\n",
       "      <td>damage</td>\n",
       "      <td>test</td>\n",
       "      <td>-93.548123_30.900623</td>\n",
       "      <td>-93.548123</td>\n",
       "      <td>30.900623</td>\n",
       "      <td>[[[ 27  37  26]\\n  [ 26  36  25]\\n  [ 25  35  ...</td>\n",
       "    </tr>\n",
       "    <tr>\n",
       "      <th>1</th>\n",
       "      <td>C:\\Users\\Jake Wojcik\\Documents\\Springboard\\DS ...</td>\n",
       "      <td>damage</td>\n",
       "      <td>test</td>\n",
       "      <td>-93.560128_30.894917</td>\n",
       "      <td>-93.560128</td>\n",
       "      <td>30.894917</td>\n",
       "      <td>[[[ 39  62  44]\\n  [ 37  60  42]\\n  [ 32  55  ...</td>\n",
       "    </tr>\n",
       "    <tr>\n",
       "      <th>2</th>\n",
       "      <td>C:\\Users\\Jake Wojcik\\Documents\\Springboard\\DS ...</td>\n",
       "      <td>damage</td>\n",
       "      <td>test</td>\n",
       "      <td>-93.578271_30.779923999999998</td>\n",
       "      <td>-93.578271</td>\n",
       "      <td>30.779924</td>\n",
       "      <td>[[[102 105  74]\\n  [102 105  74]\\n  [100 103  ...</td>\n",
       "    </tr>\n",
       "    <tr>\n",
       "      <th>3</th>\n",
       "      <td>C:\\Users\\Jake Wojcik\\Documents\\Springboard\\DS ...</td>\n",
       "      <td>damage</td>\n",
       "      <td>test</td>\n",
       "      <td>-93.590598_30.694956</td>\n",
       "      <td>-93.590598</td>\n",
       "      <td>30.694956</td>\n",
       "      <td>[[[ 87  96  77]\\n  [ 89  98  79]\\n  [ 76  85  ...</td>\n",
       "    </tr>\n",
       "    <tr>\n",
       "      <th>4</th>\n",
       "      <td>C:\\Users\\Jake Wojcik\\Documents\\Springboard\\DS ...</td>\n",
       "      <td>damage</td>\n",
       "      <td>test</td>\n",
       "      <td>-93.604017_30.793719</td>\n",
       "      <td>-93.604017</td>\n",
       "      <td>30.793719</td>\n",
       "      <td>[[[83 88 48]\\n  [84 89 49]\\n  [86 91 51]\\n  .....</td>\n",
       "    </tr>\n",
       "    <tr>\n",
       "      <th>...</th>\n",
       "      <td>...</td>\n",
       "      <td>...</td>\n",
       "      <td>...</td>\n",
       "      <td>...</td>\n",
       "      <td>...</td>\n",
       "      <td>...</td>\n",
       "      <td>...</td>\n",
       "    </tr>\n",
       "    <tr>\n",
       "      <th>10995</th>\n",
       "      <td>C:\\Users\\Jake Wojcik\\Documents\\Springboard\\DS ...</td>\n",
       "      <td>no_damage</td>\n",
       "      <td>test_another</td>\n",
       "      <td>-96.99941899999999_28.784907</td>\n",
       "      <td>-96.999419</td>\n",
       "      <td>28.784907</td>\n",
       "      <td>[[[ 88 106  64]\\n  [ 89 106  64]\\n  [ 90 107  ...</td>\n",
       "    </tr>\n",
       "    <tr>\n",
       "      <th>10996</th>\n",
       "      <td>C:\\Users\\Jake Wojcik\\Documents\\Springboard\\DS ...</td>\n",
       "      <td>no_damage</td>\n",
       "      <td>test_another</td>\n",
       "      <td>-96.99991_28.801191999999997</td>\n",
       "      <td>-96.999910</td>\n",
       "      <td>28.801192</td>\n",
       "      <td>[[[ 69  68  63]\\n  [ 81  80  75]\\n  [117 116 1...</td>\n",
       "    </tr>\n",
       "    <tr>\n",
       "      <th>10997</th>\n",
       "      <td>C:\\Users\\Jake Wojcik\\Documents\\Springboard\\DS ...</td>\n",
       "      <td>no_damage</td>\n",
       "      <td>test_another</td>\n",
       "      <td>-97.000824_28.790071</td>\n",
       "      <td>-97.000824</td>\n",
       "      <td>28.790071</td>\n",
       "      <td>[[[ 86  96  62]\\n  [ 86  96  62]\\n  [ 86  96  ...</td>\n",
       "    </tr>\n",
       "    <tr>\n",
       "      <th>10998</th>\n",
       "      <td>C:\\Users\\Jake Wojcik\\Documents\\Springboard\\DS ...</td>\n",
       "      <td>no_damage</td>\n",
       "      <td>test_another</td>\n",
       "      <td>-97.001092_28.887828999999996</td>\n",
       "      <td>-97.001092</td>\n",
       "      <td>28.887829</td>\n",
       "      <td>[[[ 95  88  72]\\n  [ 95  88  72]\\n  [103  96  ...</td>\n",
       "    </tr>\n",
       "    <tr>\n",
       "      <th>10999</th>\n",
       "      <td>C:\\Users\\Jake Wojcik\\Documents\\Springboard\\DS ...</td>\n",
       "      <td>no_damage</td>\n",
       "      <td>test_another</td>\n",
       "      <td>-97.001948_28.633053999999998</td>\n",
       "      <td>-97.001948</td>\n",
       "      <td>28.633054</td>\n",
       "      <td>[[[ 32  48  21]\\n  [ 34  50  23]\\n  [ 35  51  ...</td>\n",
       "    </tr>\n",
       "  </tbody>\n",
       "</table>\n",
       "<p>11000 rows × 7 columns</p>\n",
       "</div>"
      ],
      "text/plain": [
       "                                                    path     damage  \\\n",
       "0      C:\\Users\\Jake Wojcik\\Documents\\Springboard\\DS ...     damage   \n",
       "1      C:\\Users\\Jake Wojcik\\Documents\\Springboard\\DS ...     damage   \n",
       "2      C:\\Users\\Jake Wojcik\\Documents\\Springboard\\DS ...     damage   \n",
       "3      C:\\Users\\Jake Wojcik\\Documents\\Springboard\\DS ...     damage   \n",
       "4      C:\\Users\\Jake Wojcik\\Documents\\Springboard\\DS ...     damage   \n",
       "...                                                  ...        ...   \n",
       "10995  C:\\Users\\Jake Wojcik\\Documents\\Springboard\\DS ...  no_damage   \n",
       "10996  C:\\Users\\Jake Wojcik\\Documents\\Springboard\\DS ...  no_damage   \n",
       "10997  C:\\Users\\Jake Wojcik\\Documents\\Springboard\\DS ...  no_damage   \n",
       "10998  C:\\Users\\Jake Wojcik\\Documents\\Springboard\\DS ...  no_damage   \n",
       "10999  C:\\Users\\Jake Wojcik\\Documents\\Springboard\\DS ...  no_damage   \n",
       "\n",
       "         data_split                       location        lon        lat  \\\n",
       "0              test           -93.548123_30.900623 -93.548123  30.900623   \n",
       "1              test           -93.560128_30.894917 -93.560128  30.894917   \n",
       "2              test  -93.578271_30.779923999999998 -93.578271  30.779924   \n",
       "3              test           -93.590598_30.694956 -93.590598  30.694956   \n",
       "4              test           -93.604017_30.793719 -93.604017  30.793719   \n",
       "...             ...                            ...        ...        ...   \n",
       "10995  test_another   -96.99941899999999_28.784907 -96.999419  28.784907   \n",
       "10996  test_another   -96.99991_28.801191999999997 -96.999910  28.801192   \n",
       "10997  test_another           -97.000824_28.790071 -97.000824  28.790071   \n",
       "10998  test_another  -97.001092_28.887828999999996 -97.001092  28.887829   \n",
       "10999  test_another  -97.001948_28.633053999999998 -97.001948  28.633054   \n",
       "\n",
       "                                                   image  \n",
       "0      [[[ 27  37  26]\\n  [ 26  36  25]\\n  [ 25  35  ...  \n",
       "1      [[[ 39  62  44]\\n  [ 37  60  42]\\n  [ 32  55  ...  \n",
       "2      [[[102 105  74]\\n  [102 105  74]\\n  [100 103  ...  \n",
       "3      [[[ 87  96  77]\\n  [ 89  98  79]\\n  [ 76  85  ...  \n",
       "4      [[[83 88 48]\\n  [84 89 49]\\n  [86 91 51]\\n  .....  \n",
       "...                                                  ...  \n",
       "10995  [[[ 88 106  64]\\n  [ 89 106  64]\\n  [ 90 107  ...  \n",
       "10996  [[[ 69  68  63]\\n  [ 81  80  75]\\n  [117 116 1...  \n",
       "10997  [[[ 86  96  62]\\n  [ 86  96  62]\\n  [ 86  96  ...  \n",
       "10998  [[[ 95  88  72]\\n  [ 95  88  72]\\n  [103  96  ...  \n",
       "10999  [[[ 32  48  21]\\n  [ 34  50  23]\\n  [ 35  51  ...  \n",
       "\n",
       "[11000 rows x 7 columns]"
      ]
     },
     "execution_count": 4,
     "metadata": {},
     "output_type": "execute_result"
    }
   ],
   "source": [
    "test_df"
   ]
  },
  {
   "cell_type": "code",
   "execution_count": 5,
   "metadata": {},
   "outputs": [],
   "source": [
    "# encode damage to 1 and no_damaged to 0 in order to feed into nueral network\n",
    "#train_df['damage'].loc[train_df.damage == \"damage\"] = 1\n",
    "#train_df['damage'].loc[train_df.damage == \"no_damage\"] = 0\n",
    "#test_df['damage'].loc[test_df.damage == \"damage\"] = 1\n",
    "#test_df['damage'].loc[test_df.damage == \"no_damage\"] = 0"
   ]
  },
  {
   "cell_type": "code",
   "execution_count": 6,
   "metadata": {},
   "outputs": [],
   "source": [
    "#Separate train & validation sets\n",
    "validation_df = train_df[train_df['data_split']=='validation_another']\n",
    "train_df = train_df[train_df['data_split']=='train_another']"
   ]
  },
  {
   "cell_type": "code",
   "execution_count": 7,
   "metadata": {},
   "outputs": [],
   "source": [
    "# separate test dataset into balanced and unbalanced sets\n",
    "test_balanced_df = test_df[test_df['data_split']=='test']\n",
    "test_unbalanced_df = test_df[test_df['data_split']=='test_another']"
   ]
  },
  {
   "cell_type": "code",
   "execution_count": 9,
   "metadata": {},
   "outputs": [],
   "source": [
    "#Randomly shuffle dataframes\n",
    "train_df = train_df.sample(frac=1).reset_index(drop=True)\n",
    "validation_df = validation_df.sample(frac=1).reset_index(drop=True)\n",
    "test_balanced_df = test_balanced_df.sample(frac=1).reset_index(drop=True)\n",
    "test_unbalanced_df = test_unbalanced_df.sample(frac=1).reset_index(drop=True)"
   ]
  },
  {
   "cell_type": "markdown",
   "metadata": {},
   "source": [
    "### Create Generators "
   ]
  },
  {
   "cell_type": "code",
   "execution_count": 10,
   "metadata": {},
   "outputs": [
    {
     "name": "stdout",
     "output_type": "stream",
     "text": [
      "Found 10000 validated image filenames belonging to 2 classes.\n",
      "Found 2000 validated image filenames belonging to 2 classes.\n",
      "Found 2000 validated image filenames belonging to 2 classes.\n",
      "Found 9000 validated image filenames belonging to 2 classes.\n"
     ]
    }
   ],
   "source": [
    "datagen=ImageDataGenerator(rescale=1./255.)\n",
    "#generate train Dataframe\n",
    "train_generator= datagen.flow_from_dataframe(\n",
    "dataframe=train_df,\n",
    "directory=None,\n",
    "x_col=\"path\",\n",
    "y_col=\"damage\",\n",
    "subset=\"training\",\n",
    "batch_size=50,\n",
    "seed=9,\n",
    "shuffle=False,\n",
    "class_mode=\"binary\",\n",
    "target_size=(128,128))\n",
    "\n",
    "# Generate validation dataframe\n",
    "validation_generator= datagen.flow_from_dataframe(\n",
    "dataframe=validation_df,\n",
    "directory=None,\n",
    "x_col=\"path\",\n",
    "y_col=\"damage\",\n",
    "batch_size=50,\n",
    "seed=9,\n",
    "shuffle=False,\n",
    "class_mode=\"binary\",\n",
    "target_size=(128,128))\n",
    "\n",
    "#Generate balanced test dataframe\n",
    "test_datagen = ImageDataGenerator(rescale=1./255.)\n",
    "test_generator = test_datagen.flow_from_dataframe(\n",
    "dataframe=test_balanced_df,\n",
    "directory=None,\n",
    "x_col=\"path\",\n",
    "y_col=\"damage\",\n",
    "batch_size=50,\n",
    "seed=9,\n",
    "shuffle=False,\n",
    "class_mode='binary',\n",
    "target_size=(128,128))\n",
    "\n",
    "#Generate unbalanced test dataframe\n",
    "test_datagen_un = ImageDataGenerator(rescale=1./255.)\n",
    "test_generator_un = test_datagen.flow_from_dataframe(\n",
    "dataframe=test_unbalanced_df,\n",
    "directory=None,\n",
    "x_col=\"path\",\n",
    "y_col=\"damage\",\n",
    "batch_size=50,\n",
    "seed=9,\n",
    "shuffle=False,\n",
    "class_mode='binary',\n",
    "target_size=(128,128))"
   ]
  },
  {
   "cell_type": "markdown",
   "metadata": {},
   "source": [
    "Define custom metrics for the model"
   ]
  },
  {
   "cell_type": "code",
   "execution_count": 11,
   "metadata": {},
   "outputs": [],
   "source": [
    "from keras import backend as K\n",
    "\n",
    "def recall_m(y_true, y_pred):\n",
    "        true_positives = K.sum(K.round(K.clip(y_true * y_pred, 0, 1)))\n",
    "        possible_positives = K.sum(K.round(K.clip(y_true, 0, 1)))\n",
    "        recall = true_positives / (possible_positives + K.epsilon())\n",
    "        return recall\n",
    "\n",
    "def precision_m(y_true, y_pred):\n",
    "        true_positives = K.sum(K.round(K.clip(y_true * y_pred, 0, 1)))\n",
    "        predicted_positives = K.sum(K.round(K.clip(y_pred, 0, 1)))\n",
    "        precision = true_positives / (predicted_positives + K.epsilon())\n",
    "        return precision\n",
    "\n",
    "def f1_m(y_true, y_pred):\n",
    "    precision = precision_m(y_true, y_pred)\n",
    "    recall = recall_m(y_true, y_pred)\n",
    "    return 2*((precision*recall)/(precision+recall+K.epsilon()))"
   ]
  },
  {
   "cell_type": "markdown",
   "metadata": {},
   "source": [
    "### Build the Model"
   ]
  },
  {
   "cell_type": "code",
   "execution_count": 12,
   "metadata": {},
   "outputs": [],
   "source": [
    "model = Sequential()\n",
    "model.add(Conv2D(32,(3,3),activation='relu',input_shape=(128,128,3)))\n",
    "model.add(MaxPooling2D((2,2)))\n",
    "model.add(Conv2D(64,(3,3),activation='relu'))\n",
    "model.add(MaxPooling2D((2,2)))\n",
    "model.add(Conv2D(128,(3,3),activation='relu'))\n",
    "model.add(MaxPooling2D((2,2)))\n",
    "model.add(Conv2D(128,(3,3),activation='relu'))\n",
    "model.add(MaxPooling2D((2,2)))\n",
    "model.add(Flatten())\n",
    "model.add(Dense(512,activation='relu'))\n",
    "model.add(Dense(1,activation='sigmoid'))\n",
    "#Compile\n",
    "model.compile(loss='binary_crossentropy',optimizer = 'Adam',metrics=['accuracy',f1_m, recall_m, precision_m])"
   ]
  },
  {
   "cell_type": "markdown",
   "metadata": {},
   "source": [
    "### Train the model"
   ]
  },
  {
   "cell_type": "code",
   "execution_count": 13,
   "metadata": {},
   "outputs": [
    {
     "name": "stdout",
     "output_type": "stream",
     "text": [
      "Epoch 1/20\n",
      "200/200 [==============================] - 111s 554ms/step - loss: 0.4312 - accuracy: 0.7743 - f1_m: 0.7778 - recall_m: 0.8443 - precision_m: 0.7651 - val_loss: 0.2064 - val_accuracy: 0.9140 - val_f1_m: 0.9091 - val_recall_m: 0.8810 - val_precision_m: 0.9426\n",
      "Epoch 2/20\n",
      "200/200 [==============================] - 112s 559ms/step - loss: 0.1891 - accuracy: 0.9228 - f1_m: 0.9204 - recall_m: 0.9100 - precision_m: 0.9379 - val_loss: 0.1602 - val_accuracy: 0.9335 - val_f1_m: 0.9338 - val_recall_m: 0.9534 - val_precision_m: 0.9182\n",
      "Epoch 3/20\n",
      "200/200 [==============================] - 115s 577ms/step - loss: 0.1429 - accuracy: 0.9417 - f1_m: 0.9404 - recall_m: 0.9374 - precision_m: 0.9480 - val_loss: 0.1486 - val_accuracy: 0.9505 - val_f1_m: 0.9498 - val_recall_m: 0.9445 - val_precision_m: 0.9581\n",
      "Epoch 4/20\n",
      "200/200 [==============================] - 111s 556ms/step - loss: 0.1047 - accuracy: 0.9601 - f1_m: 0.9590 - recall_m: 0.9556 - precision_m: 0.9651 - val_loss: 0.1152 - val_accuracy: 0.9525 - val_f1_m: 0.9516 - val_recall_m: 0.9404 - val_precision_m: 0.9659\n",
      "Epoch 5/20\n",
      "200/200 [==============================] - 114s 571ms/step - loss: 0.0979 - accuracy: 0.9628 - f1_m: 0.9616 - recall_m: 0.9592 - precision_m: 0.9671 - val_loss: 0.1501 - val_accuracy: 0.9470 - val_f1_m: 0.9464 - val_recall_m: 0.9365 - val_precision_m: 0.9588\n",
      "Epoch 6/20\n",
      "200/200 [==============================] - 118s 591ms/step - loss: 0.0750 - accuracy: 0.9719 - f1_m: 0.9712 - recall_m: 0.9704 - precision_m: 0.9736 - val_loss: 0.1653 - val_accuracy: 0.9275 - val_f1_m: 0.9227 - val_recall_m: 0.8691 - val_precision_m: 0.9867\n",
      "Epoch 7/20\n",
      "200/200 [==============================] - 126s 629ms/step - loss: 0.0617 - accuracy: 0.9777 - f1_m: 0.9773 - recall_m: 0.9777 - precision_m: 0.9780 - val_loss: 0.1095 - val_accuracy: 0.9615 - val_f1_m: 0.9617 - val_recall_m: 0.9723 - val_precision_m: 0.9528\n",
      "Epoch 8/20\n",
      "200/200 [==============================] - 118s 592ms/step - loss: 0.0635 - accuracy: 0.9778 - f1_m: 0.9772 - recall_m: 0.9764 - precision_m: 0.9795 - val_loss: 0.1577 - val_accuracy: 0.9600 - val_f1_m: 0.9598 - val_recall_m: 0.9843 - val_precision_m: 0.9382\n",
      "Epoch 9/20\n",
      "200/200 [==============================] - 116s 578ms/step - loss: 0.0451 - accuracy: 0.9829 - f1_m: 0.9830 - recall_m: 0.9831 - precision_m: 0.9838 - val_loss: 0.1214 - val_accuracy: 0.9595 - val_f1_m: 0.9584 - val_recall_m: 0.9575 - val_precision_m: 0.9615\n",
      "Epoch 10/20\n",
      "200/200 [==============================] - 124s 618ms/step - loss: 0.0369 - accuracy: 0.9859 - f1_m: 0.9857 - recall_m: 0.9858 - precision_m: 0.9865 - val_loss: 0.1085 - val_accuracy: 0.9640 - val_f1_m: 0.9634 - val_recall_m: 0.9636 - val_precision_m: 0.9650\n",
      "Epoch 11/20\n",
      "200/200 [==============================] - 124s 621ms/step - loss: 0.0261 - accuracy: 0.9913 - f1_m: 0.9910 - recall_m: 0.9899 - precision_m: 0.9926 - val_loss: 0.1307 - val_accuracy: 0.9590 - val_f1_m: 0.9577 - val_recall_m: 0.9497 - val_precision_m: 0.9680\n",
      "Epoch 12/20\n",
      "200/200 [==============================] - 122s 610ms/step - loss: 0.0188 - accuracy: 0.9935 - f1_m: 0.9934 - recall_m: 0.9924 - precision_m: 0.9947 - val_loss: 0.1216 - val_accuracy: 0.9690 - val_f1_m: 0.9685 - val_recall_m: 0.9798 - val_precision_m: 0.9588\n",
      "Epoch 13/20\n",
      "200/200 [==============================] - 116s 578ms/step - loss: 0.0296 - accuracy: 0.9901 - f1_m: 0.9900 - recall_m: 0.9893 - precision_m: 0.9914 - val_loss: 0.1332 - val_accuracy: 0.9660 - val_f1_m: 0.9652 - val_recall_m: 0.9486 - val_precision_m: 0.9836\n",
      "Epoch 14/20\n",
      "200/200 [==============================] - 118s 592ms/step - loss: 0.0129 - accuracy: 0.9963 - f1_m: 0.9963 - recall_m: 0.9960 - precision_m: 0.9968 - val_loss: 0.1760 - val_accuracy: 0.9545 - val_f1_m: 0.9523 - val_recall_m: 0.9291 - val_precision_m: 0.9790\n",
      "Epoch 15/20\n",
      "200/200 [==============================] - 127s 633ms/step - loss: 0.0369 - accuracy: 0.9875 - f1_m: 0.9873 - recall_m: 0.9870 - precision_m: 0.9884 - val_loss: 0.1273 - val_accuracy: 0.9635 - val_f1_m: 0.9634 - val_recall_m: 0.9629 - val_precision_m: 0.9654\n",
      "Epoch 16/20\n",
      "200/200 [==============================] - 111s 556ms/step - loss: 0.0136 - accuracy: 0.9958 - f1_m: 0.9956 - recall_m: 0.9959 - precision_m: 0.9956 - val_loss: 0.1555 - val_accuracy: 0.9695 - val_f1_m: 0.9693 - val_recall_m: 0.9762 - val_precision_m: 0.9636\n",
      "Epoch 17/20\n",
      "200/200 [==============================] - 136s 681ms/step - loss: 0.0137 - accuracy: 0.9965 - f1_m: 0.9965 - recall_m: 0.9960 - precision_m: 0.9972 - val_loss: 0.2427 - val_accuracy: 0.9420 - val_f1_m: 0.9420 - val_recall_m: 0.9612 - val_precision_m: 0.9253\n",
      "Epoch 18/20\n",
      "200/200 [==============================] - 129s 646ms/step - loss: 0.0311 - accuracy: 0.9905 - f1_m: 0.9905 - recall_m: 0.9914 - precision_m: 0.9902 - val_loss: 0.1827 - val_accuracy: 0.9595 - val_f1_m: 0.9599 - val_recall_m: 0.9786 - val_precision_m: 0.9429\n",
      "Epoch 19/20\n",
      "200/200 [==============================] - 119s 593ms/step - loss: 0.0050 - accuracy: 0.9987 - f1_m: 0.9986 - recall_m: 0.9983 - precision_m: 0.9990 - val_loss: 0.1304 - val_accuracy: 0.9690 - val_f1_m: 0.9687 - val_recall_m: 0.9636 - val_precision_m: 0.9753\n",
      "Epoch 20/20\n",
      "200/200 [==============================] - 144s 719ms/step - loss: 0.0014 - accuracy: 0.9998 - f1_m: 0.9998 - recall_m: 0.9995 - precision_m: 1.0000 - val_loss: 0.1646 - val_accuracy: 0.9665 - val_f1_m: 0.9660 - val_recall_m: 0.9572 - val_precision_m: 0.9768\n"
     ]
    }
   ],
   "source": [
    "train_steps = train_generator.n//train_generator.batch_size\n",
    "validation_steps = validation_generator.n//validation_generator.batch_size\n",
    "\n",
    "history = model.fit(train_generator,steps_per_epoch=train_steps,validation_data=validation_generator,validation_steps=validation_steps,epochs=20)"
   ]
  },
  {
   "cell_type": "code",
   "execution_count": 14,
   "metadata": {},
   "outputs": [],
   "source": [
    "def model_plots(history):\n",
    "    plt.plot(history.history['accuracy'])\n",
    "    plt.plot(history.history['val_accuracy'])\n",
    "    plt.legend(['acc', 'val_acc'])\n",
    "    plt.title('Accuracy')\n",
    "    plt.ylim(0.5,1)\n",
    "    plt.show()\n",
    "    plt.plot(history.history['loss'])\n",
    "    plt.plot(history.history['val_loss'])\n",
    "    plt.legend(['loss', 'val_loss'])\n",
    "    plt.title('Loss')\n",
    "    plt.ylim(0,1)\n",
    "    plt.show()"
   ]
  },
  {
   "cell_type": "code",
   "execution_count": 15,
   "metadata": {},
   "outputs": [
    {
     "data": {
      "image/png": "[encoded data removed]",
      "text/plain": [
       "<Figure size 432x288 with 1 Axes>"
      ]
     },
     "metadata": {
      "needs_background": "light"
     },
     "output_type": "display_data"
    },
    {
     "data": {
      "image/png": "[encoded data removed]",
      "text/plain": [
       "<Figure size 432x288 with 1 Axes>"
      ]
     },
     "metadata": {
      "needs_background": "light"
     },
     "output_type": "display_data"
    }
   ],
   "source": [
    "model_plots(history)"
   ]
  },
  {
   "cell_type": "markdown",
   "metadata": {},
   "source": [
    "### Test the model"
   ]
  },
  {
   "cell_type": "code",
   "execution_count": 16,
   "metadata": {},
   "outputs": [
    {
     "name": "stdout",
     "output_type": "stream",
     "text": [
      "WARNING:tensorflow:From <ipython-input-16-58315f319cd1>:4: Model.evaluate_generator (from tensorflow.python.keras.engine.training) is deprecated and will be removed in a future version.\n",
      "Instructions for updating:\n",
      "Please use Model.evaluate, which supports generators.\n",
      "Loss: 0.10 Acc: 0.98 F1 Score: 0.98 Recall: 0.98 Precision: 0.99\n"
     ]
    }
   ],
   "source": [
    "#Test on balanced test set\n",
    "test_generator.reset()\n",
    "step_size_test = test_generator.n // test_generator.batch_size\n",
    "model_loss, model_acc, model_f1, model_recall, model_precision = model.evaluate_generator(generator = test_generator, steps = step_size_test)\n",
    "print('Loss:', '%.2f'%model_loss, 'Acc:', '%.2f'%model_acc, 'F1 Score:', '%.2f'%model_f1, 'Recall:', '%.2f'%model_recall, 'Precision:', '%.2f'%model_precision)"
   ]
  },
  {
   "cell_type": "code",
   "execution_count": 17,
   "metadata": {},
   "outputs": [
    {
     "name": "stdout",
     "output_type": "stream",
     "text": [
      "Loss: 0.12 Acc: 0.98 F1 Score: 0.89 Recall: 0.96 Precision: 0.85\n"
     ]
    }
   ],
   "source": [
    "#Test on unbalanced test set\n",
    "test_generator_un.reset()\n",
    "step_size_test_un = test_generator_un.n // test_generator_un.batch_size\n",
    "model_loss, model_acc, model_f1, model_recall, model_precision = model.evaluate_generator(generator = test_generator_un, steps = step_size_test_un)\n",
    "print('Loss:', '%.2f'%model_loss, 'Acc:', '%.2f'%model_acc, 'F1 Score:', '%.2f'%model_f1, 'Recall:', '%.2f'%model_recall, 'Precision:', '%.2f'%model_precision)"
   ]
  },
  {
   "cell_type": "markdown",
   "metadata": {},
   "source": [
    "Looks like our model performs fairly well on both the balanced and unbalanced test sets. Our model is better at finding members of the positive class than correctly classifying members of the positive class. This means our model has very little false negatives and the classifier is more permissive in the criteria for classifying something as positive. "
   ]
  },
  {
   "cell_type": "code",
   "execution_count": 18,
   "metadata": {},
   "outputs": [
    {
     "name": "stdout",
     "output_type": "stream",
     "text": [
      "WARNING:tensorflow:From C:\\Users\\public\\Anaconda3\\lib\\site-packages\\tensorflow\\python\\training\\tracking\\tracking.py:111: Model.state_updates (from tensorflow.python.keras.engine.training) is deprecated and will be removed in a future version.\n",
      "Instructions for updating:\n",
      "This property should not be used in TensorFlow 2.0, as updates are applied automatically.\n",
      "WARNING:tensorflow:From C:\\Users\\public\\Anaconda3\\lib\\site-packages\\tensorflow\\python\\training\\tracking\\tracking.py:111: Layer.updates (from tensorflow.python.keras.engine.base_layer) is deprecated and will be removed in a future version.\n",
      "Instructions for updating:\n",
      "This property should not be used in TensorFlow 2.0, as updates are applied automatically.\n",
      "INFO:tensorflow:Assets written to: C:\\Users\\Jake Wojcik\\Documents\\Springboard\\DS Career Track Course\\Capstone_3\\Models\\model_shuff\\assets\n"
     ]
    }
   ],
   "source": [
    "# save model\n",
    "model.save(r\"C:\\Users\\Jake Wojcik\\Documents\\Springboard\\DS Career Track Course\\Capstone_3\\Models\\model_shuff\")"
   ]
  },
  {
   "cell_type": "code",
   "execution_count": 19,
   "metadata": {},
   "outputs": [
    {
     "name": "stdout",
     "output_type": "stream",
     "text": [
      "Model: \"sequential\"\n",
      "_________________________________________________________________\n",
      "Layer (type)                 Output Shape              Param #   \n",
      "=================================================================\n",
      "conv2d (Conv2D)              (None, 126, 126, 32)      896       \n",
      "_________________________________________________________________\n",
      "max_pooling2d (MaxPooling2D) (None, 63, 63, 32)        0         \n",
      "_________________________________________________________________\n",
      "conv2d_1 (Conv2D)            (None, 61, 61, 64)        18496     \n",
      "_________________________________________________________________\n",
      "max_pooling2d_1 (MaxPooling2 (None, 30, 30, 64)        0         \n",
      "_________________________________________________________________\n",
      "conv2d_2 (Conv2D)            (None, 28, 28, 128)       73856     \n",
      "_________________________________________________________________\n",
      "max_pooling2d_2 (MaxPooling2 (None, 14, 14, 128)       0         \n",
      "_________________________________________________________________\n",
      "conv2d_3 (Conv2D)            (None, 12, 12, 128)       147584    \n",
      "_________________________________________________________________\n",
      "max_pooling2d_3 (MaxPooling2 (None, 6, 6, 128)         0         \n",
      "_________________________________________________________________\n",
      "flatten (Flatten)            (None, 4608)              0         \n",
      "_________________________________________________________________\n",
      "dense (Dense)                (None, 512)               2359808   \n",
      "_________________________________________________________________\n",
      "dense_1 (Dense)              (None, 1)                 513       \n",
      "=================================================================\n",
      "Total params: 2,601,153\n",
      "Trainable params: 2,601,153\n",
      "Non-trainable params: 0\n",
      "_________________________________________________________________\n"
     ]
    }
   ],
   "source": [
    "from keras.models import load_model\n",
    "#load saved model from folder\n",
    "loaded_model = load_model(r\"C:\\Users\\Jake Wojcik\\Documents\\Springboard\\DS Career Track Course\\Capstone_3\\Models\\model_shuff\", custom_objects = {'f1_m':f1_m, 'recall_m':recall_m, 'precision_m':precision_m})\n",
    "loaded_model.summary()"
   ]
  },
  {
   "cell_type": "code",
   "execution_count": 20,
   "metadata": {},
   "outputs": [],
   "source": [
    "step_size_train = train_generator.n // train_generator.batch_size\n",
    "step_size_val = validation_generator.n // validation_generator.batch_size\n",
    "\n",
    "#retrieve training metrics for saved model\n",
    "train_generator.reset()\n",
    "train_loss, train_acc, train_f1, train_recall, train_precision = loaded_model.evaluate_generator(generator = train_generator, steps=step_size_train)\n",
    "\n",
    "#retrieve validation metrics for saved model\n",
    "validation_generator.reset()\n",
    "val_loss, val_acc, val_f1, val_recall, val_precision = loaded_model.evaluate_generator(generator = validation_generator, steps = step_size_val)\n",
    "\n",
    "#retrieve test metrics for saved model\n",
    "test_generator.reset()\n",
    "test_loss, test_acc, test_f1, test_recall, test_precision = loaded_model.evaluate_generator(generator = test_generator)"
   ]
  },
  {
   "cell_type": "code",
   "execution_count": 21,
   "metadata": {},
   "outputs": [
    {
     "name": "stdout",
     "output_type": "stream",
     "text": [
      "TRAINING\n",
      "Loss: 0.00 Acc: 1.00 F1 Score: 1.00 Recall: 1.00 Precision: 1.00\n",
      "\n",
      "VALIDATION\n",
      "Loss: 0.16 Acc: 0.97 F1 Score: 0.97 Recall: 0.96 Precision: 0.98\n",
      "TEST\n",
      "Loss: 0.10 Acc: 0.98 F1 Score: 0.98 Recall: 0.98 Precision: 0.99\n"
     ]
    }
   ],
   "source": [
    "print('TRAINING')\n",
    "print('Loss:', \"%.2f\" % train_loss, 'Acc:', \"%.2f\" % train_acc, 'F1 Score:', \"%.2f\" % train_f1, 'Recall:', \"%.2f\" % train_recall, 'Precision:', \"%.2f\" % train_precision)\n",
    "print('')\n",
    "print('VALIDATION')\n",
    "print('Loss:', \"%.2f\" % val_loss, 'Acc:', \"%.2f\" % val_acc, 'F1 Score:', \"%.2f\" % val_f1, 'Recall:', \"%.2f\" % val_recall, 'Precision:', \"%.2f\" % val_precision)\n",
    "print('TEST')\n",
    "print('Loss:', \"%.2f\" % test_loss, 'Acc:', \"%.2f\" % test_acc, 'F1 Score:', \"%.2f\" % test_f1, 'Recall:', \"%.2f\" % test_recall, 'Precision:', \"%.2f\" % test_precision)"
   ]
  },
  {
   "cell_type": "markdown",
   "metadata": {},
   "source": [
    "### ROC & Precision Recall Curve"
   ]
  },
  {
   "cell_type": "markdown",
   "metadata": {},
   "source": [
    "We'll use an ROC curve for our balanced test set and a precision-recall curve for the unbalanced test set."
   ]
  },
  {
   "cell_type": "code",
   "execution_count": 22,
   "metadata": {},
   "outputs": [],
   "source": [
    "# encode damage to 1 and no_damaged to 0 in order to plot ROC \n",
    "train_df['damage'].loc[train_df.damage == \"damage\"] = 1\n",
    "train_df['damage'].loc[train_df.damage == \"no_damage\"] = 0\n",
    "test_balanced_df['damage'].loc[test_balanced_df.damage == \"damage\"] = 1\n",
    "test_balanced_df['damage'].loc[test_balanced_df.damage == \"no_damage\"] = 0\n"
   ]
  },
  {
   "cell_type": "code",
   "execution_count": 28,
   "metadata": {},
   "outputs": [],
   "source": [
    "test_unbalanced_df['damage'].loc[test_unbalanced_df.damage == \"damage\"] = 1\n",
    "test_unbalanced_df['damage'].loc[test_unbalanced_df.damage == \"no_damage\"] = 0"
   ]
  },
  {
   "cell_type": "code",
   "execution_count": 30,
   "metadata": {},
   "outputs": [],
   "source": [
    "test_generator.reset()\n",
    "predict_proba = loaded_model.predict(test_generator)\n",
    "pred = np.multiply((predict_proba > 0.5), 1)\n",
    "df_results = test_balanced_df.copy()\n",
    "df_results['pred'] = pred"
   ]
  },
  {
   "cell_type": "code",
   "execution_count": 31,
   "metadata": {},
   "outputs": [
    {
     "data": {
      "image/png": "[encoded data removed]",
      "text/plain": [
       "<Figure size 432x288 with 1 Axes>"
      ]
     },
     "metadata": {
      "needs_background": "light"
     },
     "output_type": "display_data"
    },
    {
     "name": "stdout",
     "output_type": "stream",
     "text": [
      "AUC Score: 0.997\n"
     ]
    }
   ],
   "source": [
    "from sklearn.metrics import precision_recall_curve, roc_curve, auc\n",
    "precision, recall, thresholds = roc_curve(test_balanced_df.damage.astype(int),predict_proba)\n",
    "\n",
    "#plt.plot([0, 1], [no_skill, no_skill], linestyle='--', label='No Skill')\n",
    "plt.plot(recall, precision, marker='.', label='Logistic')\n",
    "plt.xlabel('False Positive Rate')\n",
    "plt.ylabel('True Positive Rate')\n",
    "plt.legend()\n",
    "plt.title('ROC Curve')\n",
    "plt.show()\n",
    "\n",
    "print('AUC Score: %.3f'% auc(recall, precision))"
   ]
  },
  {
   "cell_type": "code",
   "execution_count": 39,
   "metadata": {},
   "outputs": [
    {
     "data": {
      "image/png": "[encoded data removed]",
      "text/plain": [
       "<Figure size 432x288 with 1 Axes>"
      ]
     },
     "metadata": {
      "needs_background": "light"
     },
     "output_type": "display_data"
    },
    {
     "name": "stdout",
     "output_type": "stream",
     "text": [
      "AUC Score: 0.726\n"
     ]
    }
   ],
   "source": [
    "test_generator_un.reset()\n",
    "predict_proba = loaded_model.predict(test_generator_un)\n",
    "pred = np.multiply((predict_proba > 0.5), 1)\n",
    "precision, recall, thresholds = precision_recall_curve(test_unbalanced_df.damage.astype(int),predict_proba)\n",
    "\n",
    "#plt.plot([0, 1], [no_skill, no_skill], linestyle='--', label='No Skill')\n",
    "plt.plot(recall[:-1], precision[:-1], marker='.', label='Logistic')\n",
    "plt.xlabel('Recall')\n",
    "plt.ylabel('Precision')\n",
    "plt.legend()\n",
    "plt.title('Precision Recall Curve')\n",
    "plt.show()\n",
    "\n",
    "print('AUC Score: %.3f'% auc(recall, precision))"
   ]
  },
  {
   "cell_type": "code",
   "execution_count": null,
   "metadata": {},
   "outputs": [],
   "source": []
  }
 ],
 "metadata": {
  "kernelspec": {
   "display_name": "Python 3",
   "language": "python",
   "name": "python3"
  },
  "language_info": {
   "codemirror_mode": {
    "name": "ipython",
    "version": 3
   },
   "file_extension": ".py",
   "mimetype": "text/x-python",
   "name": "python",
   "nbconvert_exporter": "python",
   "pygments_lexer": "ipython3",
   "version": "3.7.7"
  }
 },
 "nbformat": 4,
 "nbformat_minor": 4
}
